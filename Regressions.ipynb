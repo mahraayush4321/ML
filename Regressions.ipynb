{
  "nbformat": 4,
  "nbformat_minor": 0,
  "metadata": {
    "colab": {
      "provenance": [],
      "authorship_tag": "ABX9TyPbHge96YDA+ENxX05U/Nme",
      "include_colab_link": true
    },
    "kernelspec": {
      "name": "python3",
      "display_name": "Python 3"
    },
    "language_info": {
      "name": "python"
    }
  },
  "cells": [
    {
      "cell_type": "markdown",
      "metadata": {
        "id": "view-in-github",
        "colab_type": "text"
      },
      "source": [
        "<a href=\"https://colab.research.google.com/github/mahraayush4321/ML/blob/master/Regressions.ipynb\" target=\"_parent\"><img src=\"https://colab.research.google.com/assets/colab-badge.svg\" alt=\"Open In Colab\"/></a>"
      ]
    },
    {
      "cell_type": "code",
      "execution_count": null,
      "metadata": {
        "id": "8dhHc0ZEBdW7"
      },
      "outputs": [],
      "source": []
    },
    {
      "cell_type": "markdown",
      "source": [
        "**Linear Regression**"
      ],
      "metadata": {
        "id": "KFR0BWu3FhQg"
      }
    },
    {
      "cell_type": "code",
      "source": [
        "class Linear_egression():\n",
        "\n",
        "  def __init__(self,learning_rate,no_of_iterations):\n",
        "\n",
        "  def fit(self,):\n",
        "\n",
        "  def update_weights(self,):\n",
        "\n",
        "  def predict(self,)\n",
        "\n",
        "\n"
      ],
      "metadata": {
        "id": "AcR05KBSFmdf"
      },
      "execution_count": null,
      "outputs": []
    }
  ]
}