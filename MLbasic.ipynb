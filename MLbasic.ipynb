{
  "nbformat": 4,
  "nbformat_minor": 0,
  "metadata": {
    "colab": {
      "provenance": [],
      "toc_visible": true,
      "authorship_tag": "ABX9TyNA0XlAdG4Bmu8RihbC19MN",
      "include_colab_link": true
    },
    "kernelspec": {
      "name": "python3",
      "display_name": "Python 3"
    },
    "language_info": {
      "name": "python"
    }
  },
  "cells": [
    {
      "cell_type": "markdown",
      "metadata": {
        "id": "view-in-github",
        "colab_type": "text"
      },
      "source": [
        "<a href=\"https://colab.research.google.com/github/mahraayush4321/ML/blob/master/MLbasic.ipynb\" target=\"_parent\"><img src=\"https://colab.research.google.com/assets/colab-badge.svg\" alt=\"Open In Colab\"/></a>"
      ]
    },
    {
      "cell_type": "code",
      "execution_count": null,
      "metadata": {
        "colab": {
          "base_uri": "https://localhost:8080/"
        },
        "id": "N--wy3E9PjYQ",
        "outputId": "fad7094f-81b3-4d4d-d311-6572f8a1f7fe"
      },
      "outputs": [
        {
          "output_type": "stream",
          "name": "stdout",
          "text": [
            "4.98\n"
          ]
        },
        {
          "output_type": "execute_result",
          "data": {
            "text/plain": [
              "float"
            ]
          },
          "metadata": {},
          "execution_count": 1
        }
      ],
      "source": [
        "#float to int\n",
        "x=4.98\n",
        "print(x)\n",
        "type(x)"
      ]
    },
    {
      "cell_type": "code",
      "source": [
        "y=int(x)\n",
        "print(y)\n",
        "type(y)"
      ],
      "metadata": {
        "colab": {
          "base_uri": "https://localhost:8080/"
        },
        "id": "XUDhoB3wQE7X",
        "outputId": "dd961646-0671-4c77-bf09-2eb089f780f6"
      },
      "execution_count": null,
      "outputs": [
        {
          "output_type": "stream",
          "name": "stdout",
          "text": [
            "4\n"
          ]
        },
        {
          "output_type": "execute_result",
          "data": {
            "text/plain": [
              "int"
            ]
          },
          "metadata": {},
          "execution_count": 2
        }
      ]
    },
    {
      "cell_type": "code",
      "source": [
        "my_str = \"programming\"\n",
        "print(my_str[1:4])\n"
      ],
      "metadata": {
        "colab": {
          "base_uri": "https://localhost:8080/"
        },
        "id": "7Q7CXk40QOpu",
        "outputId": "52cf3078-b8c2-442c-dada-9ee3ca12e31f"
      },
      "execution_count": null,
      "outputs": [
        {
          "output_type": "stream",
          "name": "stdout",
          "text": [
            "rog\n"
          ]
        }
      ]
    },
    {
      "cell_type": "code",
      "source": [
        "my_str=\"programming\"\n",
        "print(my_str[0:10:2])\n"
      ],
      "metadata": {
        "colab": {
          "base_uri": "https://localhost:8080/"
        },
        "id": "SToDjX80RSeT",
        "outputId": "33b7ee8a-c360-49ae-a11a-b57a19e60a22"
      },
      "execution_count": null,
      "outputs": [
        {
          "output_type": "stream",
          "name": "stdout",
          "text": [
            "pormi\n"
          ]
        }
      ]
    },
    {
      "cell_type": "code",
      "source": [
        "a=int(input(\"enter the d=first number\"))\n",
        "b=int(input(\"enter the second number\"))\n",
        "\n",
        "if(a>b):\n",
        "  print(\"a is greater\")\n",
        "else:\n",
        "  print(\"b is greater\")"
      ],
      "metadata": {
        "colab": {
          "base_uri": "https://localhost:8080/"
        },
        "id": "HYwIXNM5VnHO",
        "outputId": "8d8adbb8-cee7-4180-d133-bf0ccff75c5f"
      },
      "execution_count": null,
      "outputs": [
        {
          "output_type": "stream",
          "name": "stdout",
          "text": [
            "enter the d=first number2\n",
            "enter the second number123\n",
            "b is greater\n"
          ]
        }
      ]
    },
    {
      "cell_type": "code",
      "source": [
        "for i in range(5):\n",
        "  lp=int(input(\"enter the price of laptop :->\"))\n"
      ],
      "metadata": {
        "colab": {
          "base_uri": "https://localhost:8080/"
        },
        "id": "Rb4BvkuZXERZ",
        "outputId": "e29c1710-a2d3-4c35-c644-2a3931cd609c"
      },
      "execution_count": null,
      "outputs": [
        {
          "name": "stdout",
          "output_type": "stream",
          "text": [
            "enter the price of laptop :->10000\n",
            "enter the price of laptop :->20000\n",
            "enter the price of laptop :->30000\n",
            "enter the price of laptop :->40000\n",
            "enter the price of laptop :->50000\n"
          ]
        }
      ]
    },
    {
      "cell_type": "code",
      "source": [
        "number = (1,2,3,4,5)\n",
        "for i in number:\n",
        "  print(i)"
      ],
      "metadata": {
        "colab": {
          "base_uri": "https://localhost:8080/"
        },
        "id": "BMNb2GrfXfoR",
        "outputId": "2e078e32-fb98-4f49-e758-f36e3c32473a"
      },
      "execution_count": null,
      "outputs": [
        {
          "output_type": "stream",
          "name": "stdout",
          "text": [
            "1\n",
            "2\n",
            "3\n",
            "4\n",
            "5\n"
          ]
        }
      ]
    },
    {
      "cell_type": "code",
      "source": [
        "n=int(input(\"enter the number\"))\n",
        "\n",
        "fact=1\n",
        "\n",
        "if fact == 0:\n",
        "  print(\"fact of 0 is 1\")\n",
        "else:\n",
        "  for i in range(1,n+1):\n",
        "    fact=fact*i\n",
        "print(fact)\n"
      ],
      "metadata": {
        "colab": {
          "base_uri": "https://localhost:8080/"
        },
        "id": "mrtzkTVNYgNV",
        "outputId": "050f6837-d223-4140-80f2-abda0791fc78"
      },
      "execution_count": null,
      "outputs": [
        {
          "output_type": "stream",
          "name": "stdout",
          "text": [
            "enter the number5\n",
            "120\n"
          ]
        }
      ]
    },
    {
      "cell_type": "code",
      "source": [
        "def fac_val(n):\n",
        "  fac = 1\n",
        "\n",
        "  if fac == 0:\n",
        "    return fac\n",
        "  else:\n",
        "    for i in range(1,n+1):\n",
        "      fac=fac*i\n",
        "  return fac"
      ],
      "metadata": {
        "id": "NBhInByJaGew"
      },
      "execution_count": null,
      "outputs": []
    },
    {
      "cell_type": "code",
      "source": [
        "print(fac_val(5))"
      ],
      "metadata": {
        "colab": {
          "base_uri": "https://localhost:8080/"
        },
        "id": "UPX-mXL4byPq",
        "outputId": "2c53e11e-b9f1-4232-8d05-fbff094c0eb0"
      },
      "execution_count": null,
      "outputs": [
        {
          "output_type": "stream",
          "name": "stdout",
          "text": [
            "120\n"
          ]
        }
      ]
    },
    {
      "cell_type": "code",
      "source": [],
      "metadata": {
        "id": "xlfGQQbvfpRh"
      },
      "execution_count": null,
      "outputs": []
    },
    {
      "cell_type": "markdown",
      "source": [
        "use of numpy\n"
      ],
      "metadata": {
        "id": "I91VSNUufqYC"
      }
    },
    {
      "cell_type": "code",
      "source": [
        "import numpy as np\n"
      ],
      "metadata": {
        "id": "dTTb1gYCfxSr"
      },
      "execution_count": null,
      "outputs": []
    },
    {
      "cell_type": "markdown",
      "source": [
        "List vs Numpy arrays"
      ],
      "metadata": {
        "id": "Wm6MN7vugGLf"
      }
    },
    {
      "cell_type": "code",
      "source": [],
      "metadata": {
        "id": "zJS8m7BdgKry"
      },
      "execution_count": null,
      "outputs": []
    }
  ]
}